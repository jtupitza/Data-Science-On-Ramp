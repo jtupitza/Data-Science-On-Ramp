{
 "cells": [
  {
   "cell_type": "markdown",
   "metadata": {},
   "source": [
    "## Parametric Tests: Tests Designed for Normally-Distributed Data\n",
    "- Dependent (Paired) T-Tests\n",
    "- Independent (Unpaired) T-Tests"
   ]
  },
  {
   "cell_type": "markdown",
   "metadata": {},
   "source": [
    "### Import Required Libraries"
   ]
  },
  {
   "cell_type": "code",
   "execution_count": 1,
   "metadata": {},
   "outputs": [],
   "source": [
    "import os\n",
    "import numpy as np\n",
    "import pandas as pd\n",
    "from math import sqrt\n",
    "from scipy import stats\n",
    "from scipy.stats import t\n",
    "from scipy.stats import ttest_ind, ttest_rel\n",
    "\n",
    "import matplotlib.mlab as mlab\n",
    "import matplotlib.pyplot as plt\n",
    "%matplotlib inline"
   ]
  },
  {
   "cell_type": "markdown",
   "metadata": {},
   "source": [
    "### Load the Data"
   ]
  },
  {
   "cell_type": "code",
   "execution_count": 2,
   "metadata": {},
   "outputs": [
    {
     "data": {
      "text/html": [
       "<div>\n",
       "<style scoped>\n",
       "    .dataframe tbody tr th:only-of-type {\n",
       "        vertical-align: middle;\n",
       "    }\n",
       "\n",
       "    .dataframe tbody tr th {\n",
       "        vertical-align: top;\n",
       "    }\n",
       "\n",
       "    .dataframe thead th {\n",
       "        text-align: right;\n",
       "    }\n",
       "</style>\n",
       "<table border=\"1\" class=\"dataframe\">\n",
       "  <thead>\n",
       "    <tr style=\"text-align: right;\">\n",
       "      <th></th>\n",
       "      <th>Sex</th>\n",
       "      <th>Diet</th>\n",
       "      <th>Bodyweight</th>\n",
       "    </tr>\n",
       "  </thead>\n",
       "  <tbody>\n",
       "    <tr>\n",
       "      <th>0</th>\n",
       "      <td>F</td>\n",
       "      <td>hf</td>\n",
       "      <td>31.94</td>\n",
       "    </tr>\n",
       "    <tr>\n",
       "      <th>1</th>\n",
       "      <td>F</td>\n",
       "      <td>hf</td>\n",
       "      <td>32.48</td>\n",
       "    </tr>\n",
       "    <tr>\n",
       "      <th>2</th>\n",
       "      <td>F</td>\n",
       "      <td>hf</td>\n",
       "      <td>22.82</td>\n",
       "    </tr>\n",
       "    <tr>\n",
       "      <th>3</th>\n",
       "      <td>F</td>\n",
       "      <td>hf</td>\n",
       "      <td>19.92</td>\n",
       "    </tr>\n",
       "    <tr>\n",
       "      <th>4</th>\n",
       "      <td>F</td>\n",
       "      <td>hf</td>\n",
       "      <td>32.22</td>\n",
       "    </tr>\n",
       "  </tbody>\n",
       "</table>\n",
       "</div>"
      ],
      "text/plain": [
       "  Sex Diet  Bodyweight\n",
       "0   F   hf       31.94\n",
       "1   F   hf       32.48\n",
       "2   F   hf       22.82\n",
       "3   F   hf       19.92\n",
       "4   F   hf       32.22"
      ]
     },
     "execution_count": 2,
     "metadata": {},
     "output_type": "execute_result"
    }
   ],
   "source": [
    "# Locate the data file\n",
    "data_dir = os.path.join(os.getcwd(), 'Data')\n",
    "source_file = os.path.join(data_dir, 'Mice-Pheno.csv')\n",
    "\n",
    "# Read the source from the Web into a Pandas DataFrame.\n",
    "df = pd.read_csv(source_file, header=0)\n",
    "\n",
    "# Inspect the file contents\n",
    "df = df.dropna()\n",
    "df.head()"
   ]
  },
  {
   "cell_type": "markdown",
   "metadata": {},
   "source": [
    "#### Separate the Two Different Treatments"
   ]
  },
  {
   "cell_type": "code",
   "execution_count": 3,
   "metadata": {},
   "outputs": [],
   "source": [
    "high_fat = df[df.Diet == 'hf']\n",
    "chow = df[df.Diet == 'chow']"
   ]
  },
  {
   "cell_type": "markdown",
   "metadata": {
    "collapsed": true
   },
   "source": [
    "#### Separate the Two Groups (Samples)"
   ]
  },
  {
   "cell_type": "code",
   "execution_count": 4,
   "metadata": {},
   "outputs": [],
   "source": [
    "male = df[df.Sex == 'M']\n",
    "female = df[df.Sex == 'F']"
   ]
  },
  {
   "cell_type": "markdown",
   "metadata": {},
   "source": [
    "#### Define a Function to Calculate the Mean Difference and Confidence Interval"
   ]
  },
  {
   "cell_type": "code",
   "execution_count": 5,
   "metadata": {},
   "outputs": [],
   "source": [
    "def diff_mean_and_conf_intvl(sample_1, sample_2):\n",
    "    N1 = len(sample_1)\n",
    "    N2 = len(sample_2)\n",
    "    \n",
    "    # Degrees of Freedom\n",
    "    DoF = (N1 + N2 - 2) \n",
    "\n",
    "    std1 = sample_1.std()\n",
    "    std2 = sample_2.std()\n",
    "    std_N1N2 = sqrt( ((N1 - 1)*(std1)**2 + (N2 - 1)*(std2)**2) / DoF)\n",
    "\n",
    "    # Mean Difference\n",
    "    diff_mean = sample_1.mean() - sample_2.mean()\n",
    "    \n",
    "    # Margin of Error:\n",
    "    MoE = t.ppf(0.975, DoF) * std_N1N2 * sqrt(1/N1 + 1/N2)\n",
    "    \n",
    "    return diff_mean, MoE"
   ]
  },
  {
   "cell_type": "markdown",
   "metadata": {},
   "source": [
    "#### Independent (Unpaired) T-Test: Two Samples Exposed to the Same Treatment"
   ]
  },
  {
   "cell_type": "code",
   "execution_count": 6,
   "metadata": {},
   "outputs": [
    {
     "name": "stdout",
     "output_type": "stream",
     "text": [
      "The results of the independent t-test are: \n",
      "\tt-value = 15.930\n",
      "\tp-value = 2.1854663590369379e-44\n"
     ]
    }
   ],
   "source": [
    "hf_male = male[male.Diet == 'hf']\n",
    "hf_female = female[female.Diet == 'hf']\n",
    "\n",
    "t_stat, p_val = ttest_ind(hf_male.Bodyweight, hf_female.Bodyweight)\n",
    "\n",
    "print('The results of the independent t-test are: \\n\\tt-value = {:4.3f}\\n\\tp-value = {}'.format(t_stat, p_val))"
   ]
  },
  {
   "cell_type": "code",
   "execution_count": 7,
   "metadata": {},
   "outputs": [
    {
     "name": "stdout",
     "output_type": "stream",
     "text": [
      "The difference between groups is 8.6\n",
      "The 95% Confidence Interval is [7.5 to 9.6]\n"
     ]
    }
   ],
   "source": [
    "# Calculate the Mean Difference and the 95% Confidence Interval\n",
    "diff_mean, MoE = diff_mean_and_conf_intvl(hf_male.Bodyweight, hf_female.Bodyweight)\n",
    "\n",
    "print('The difference between groups is %3.1f' % diff_mean)\n",
    "print('The 95% Confidence Interval is [{:3.1f} to {:3.1f}]'.format(diff_mean - MoE, diff_mean + MoE))"
   ]
  },
  {
   "cell_type": "markdown",
   "metadata": {},
   "source": [
    "#### Dependent (Paired) T-Test: Two Samples Exposed to Two Different Treatments"
   ]
  },
  {
   "cell_type": "code",
   "execution_count": 8,
   "metadata": {},
   "outputs": [
    {
     "name": "stdout",
     "output_type": "stream",
     "text": [
      "The results of the dependent t-test are: \n",
      " - t-value = 23.355\n",
      " - p-value = 1.2509045732304141e-77\n"
     ]
    }
   ],
   "source": [
    "t_stat, p_val = ttest_rel(male[0:416].Bodyweight, female[0:416].Bodyweight)\n",
    "\n",
    "print('The results of the dependent t-test are: \\n - t-value = {:4.3f}\\n - p-value = {}'.format(t_stat, p_val))"
   ]
  },
  {
   "cell_type": "code",
   "execution_count": 9,
   "metadata": {},
   "outputs": [
    {
     "name": "stdout",
     "output_type": "stream",
     "text": [
      "The difference between groups is 7.8\n",
      "The 95% Confidence Interval is [7.1 to 8.4]\n"
     ]
    }
   ],
   "source": [
    "# Calculate the Mean Difference and the 95% Confidence Interval\n",
    "diff_mean, MoE = diff_mean_and_conf_intvl(male[0:416].Bodyweight, female[0:416].Bodyweight)\n",
    "\n",
    "print('The difference between groups is %3.1f' % diff_mean)\n",
    "print('The 95% Confidence Interval is [{:3.1f} to {:3.1f}]'.format(diff_mean - MoE, diff_mean + MoE))"
   ]
  },
  {
   "cell_type": "code",
   "execution_count": null,
   "metadata": {},
   "outputs": [],
   "source": []
  }
 ],
 "metadata": {
  "kernelspec": {
   "display_name": "Python 3",
   "language": "python",
   "name": "python3"
  },
  "language_info": {
   "codemirror_mode": {
    "name": "ipython",
    "version": 3
   },
   "file_extension": ".py",
   "mimetype": "text/x-python",
   "name": "python",
   "nbconvert_exporter": "python",
   "pygments_lexer": "ipython3",
   "version": "3.6.5"
  }
 },
 "nbformat": 4,
 "nbformat_minor": 1
}
