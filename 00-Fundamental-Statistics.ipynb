{
 "cells": [
  {
   "cell_type": "markdown",
   "metadata": {},
   "source": [
    "## Fundamental Statistics\n",
    "- Populations and Samples\n",
    "- Distributions and Kurtosis\n",
    "- Measures of Centrality: Mean, Median, Mode\n",
    "- Measures of Spread: Min, Max, Ranges, Mean Absolute Deviation, Variance, Standard Deviation\n",
    "- Z-Scores for Outlier Detection"
   ]
  },
  {
   "cell_type": "markdown",
   "metadata": {},
   "source": [
    "### Import Required Libraries"
   ]
  },
  {
   "cell_type": "code",
   "execution_count": 1,
   "metadata": {
    "collapsed": true
   },
   "outputs": [],
   "source": [
    "import os\n",
    "import numpy as np\n",
    "import pandas as pd\n",
    "import matplotlib.mlab as mlab\n",
    "import matplotlib.pyplot as plt\n",
    "%matplotlib inline"
   ]
  },
  {
   "cell_type": "markdown",
   "metadata": {
    "collapsed": true
   },
   "source": [
    "### Load the Data"
   ]
  },
  {
   "cell_type": "code",
   "execution_count": 2,
   "metadata": {},
   "outputs": [
    {
     "data": {
      "text/html": [
       "<div>\n",
       "<table border=\"1\" class=\"dataframe\">\n",
       "  <thead>\n",
       "    <tr style=\"text-align: right;\">\n",
       "      <th></th>\n",
       "      <th>Bodyweight</th>\n",
       "    </tr>\n",
       "  </thead>\n",
       "  <tbody>\n",
       "    <tr>\n",
       "      <th>0</th>\n",
       "      <td>27.03</td>\n",
       "    </tr>\n",
       "    <tr>\n",
       "      <th>1</th>\n",
       "      <td>24.80</td>\n",
       "    </tr>\n",
       "    <tr>\n",
       "      <th>2</th>\n",
       "      <td>27.02</td>\n",
       "    </tr>\n",
       "    <tr>\n",
       "      <th>3</th>\n",
       "      <td>28.07</td>\n",
       "    </tr>\n",
       "    <tr>\n",
       "      <th>4</th>\n",
       "      <td>23.55</td>\n",
       "    </tr>\n",
       "  </tbody>\n",
       "</table>\n",
       "</div>"
      ],
      "text/plain": [
       "   Bodyweight\n",
       "0       27.03\n",
       "1       24.80\n",
       "2       27.02\n",
       "3       28.07\n",
       "4       23.55"
      ]
     },
     "execution_count": 2,
     "metadata": {},
     "output_type": "execute_result"
    }
   ],
   "source": [
    "# Locate the data file\n",
    "data_dir = os.path.join(os.getcwd(), 'Data')\n",
    "source_file = os.path.join(data_dir, 'Female-Controls-Population.csv')\n",
    "\n",
    "# Read the source from the Web into a Pandas DataFrame.\n",
    "df = pd.read_csv(source_file, header=0)\n",
    "\n",
    "# Inspect the file contents\n",
    "df.head()"
   ]
  },
  {
   "cell_type": "markdown",
   "metadata": {},
   "source": [
    "### Populations"
   ]
  },
  {
   "cell_type": "code",
   "execution_count": 3,
   "metadata": {
    "scrolled": true
   },
   "outputs": [
    {
     "name": "stdout",
     "output_type": "stream",
     "text": [
      "The entire population contains 225 observations.\n"
     ]
    }
   ],
   "source": [
    "# The population represents all of the observations!\n",
    "population = df.Bodyweight\n",
    "print(\"The entire population contains {0} observations.\".format(len(population)))"
   ]
  },
  {
   "cell_type": "code",
   "execution_count": 4,
   "metadata": {},
   "outputs": [
    {
     "data": {
      "image/png": "[encoded data removed]",
      "text/plain": [
       "<matplotlib.figure.Figure at 0x1b7bb6e8978>"
      ]
     },
     "metadata": {},
     "output_type": "display_data"
    }
   ],
   "source": [
    "plt.title('Distribution of the Population')\n",
    "n, bins, patches = plt.hist(population, bins=23, normed=1, color='steelblue')\n",
    "\n",
    "# Create a 'Best-Fit' Line.\n",
    "y = mlab.normpdf(bins, population.mean(), population.std())\n",
    "l = plt.plot(bins, y, 'r--', linewidth=2)\n",
    "\n",
    "plt.xlabel('Bodyweight (grams)')\n",
    "plt.ylabel('Number of Observations')\n",
    "plt.grid(True)\n",
    "plt.show()"
   ]
  },
  {
   "cell_type": "markdown",
   "metadata": {},
   "source": [
    "#### Measures of Center (Population)"
   ]
  },
  {
   "cell_type": "code",
   "execution_count": 5,
   "metadata": {},
   "outputs": [
    {
     "name": "stdout",
     "output_type": "stream",
     "text": [
      "====================================================================\n",
      "   Center of the Population\n",
      "====================================================================\n",
      "-- Average (Mean) Bodyweight: 23.893\n",
      "-- Median Bodyweight: 23.540\n",
      "-- Mode Bodyweight: 23.39\n",
      "====================================================================\n"
     ]
    }
   ],
   "source": [
    "print(\"====================================================================\")\n",
    "print(\"   Center of the Population\")\n",
    "print(\"====================================================================\")\n",
    "print(\"-- Average (Mean) Bodyweight: %0.3f\" % population.mean())\n",
    "print(\"-- Median Bodyweight: %0.3f\" % population.median())\n",
    "print(\"-- Mode Bodyweight:\", population.mode()[0])\n",
    "print(\"====================================================================\")"
   ]
  },
  {
   "cell_type": "markdown",
   "metadata": {},
   "source": [
    "#### Measures of Spread (Population)"
   ]
  },
  {
   "cell_type": "code",
   "execution_count": 21,
   "metadata": {
    "scrolled": true
   },
   "outputs": [
    {
     "name": "stdout",
     "output_type": "stream",
     "text": [
      "====================================================================\n",
      "   Spread of the Population\n",
      "====================================================================\n",
      "-- Minimum: 15.51\n",
      "-- Maximum: 36.84\n",
      "-- Range: 21.33\n",
      "-- Mean Absolute Deviation (MAD): 2.66\n",
      "-- Variance: 11.72\n",
      "-- Standard Deviation: 3.42\n",
      "====================================================================\n"
     ]
    }
   ],
   "source": [
    "print(\"====================================================================\")\n",
    "print(\"   Spread of the Population\")\n",
    "print(\"====================================================================\")\n",
    "print(\"-- Minimum: %0.2f\" % population.min())\n",
    "print(\"-- Maximum: %0.2f\" % population.max())\n",
    "print(\"-- Range: %0.2f\" % abs(population.max() - population.min()))\n",
    "print(\"-- Mean Absolute Deviation (MAD): %0.2f\" % population.mad())\n",
    "print(\"-- Variance: %0.2f\" % population.var())\n",
    "print(\"-- Standard Deviation: %0.2f\" % population.std())\n",
    "print(\"====================================================================\")"
   ]
  },
  {
   "cell_type": "markdown",
   "metadata": {},
   "source": [
    "#### Detecting Outliers (Population)"
   ]
  },
  {
   "cell_type": "code",
   "execution_count": 7,
   "metadata": {},
   "outputs": [
    {
     "data": {
      "image/png": "[encoded data removed]",
      "text/plain": [
       "<matplotlib.figure.Figure at 0x1b7bd80c668>"
      ]
     },
     "metadata": {},
     "output_type": "display_data"
    }
   ],
   "source": [
    "z_score = (population - population.mean())/population.std()\n",
    "\n",
    "plt.title('Distribution of the Population Z-Scores')\n",
    "n, bins, patches = plt.hist(z_score, bins=23, normed=1, color='steelblue')\n",
    "\n",
    "# Create a 'Best-Fit' Line.\n",
    "y = mlab.normpdf(bins, z_score.mean(), z_score.std())\n",
    "l = plt.plot(bins, y, 'r--', linewidth=2)\n",
    "\n",
    "plt.xlabel('Z-Score')\n",
    "plt.ylabel('Number of Observations')\n",
    "plt.grid(True)\n",
    "plt.show()"
   ]
  },
  {
   "cell_type": "markdown",
   "metadata": {},
   "source": [
    "### Samples and Random Variables"
   ]
  },
  {
   "cell_type": "code",
   "execution_count": 8,
   "metadata": {},
   "outputs": [
    {
     "name": "stdout",
     "output_type": "stream",
     "text": [
      "The sample has 25 observations.\n"
     ]
    }
   ],
   "source": [
    "# One Random Sample of 25 observations.\n",
    "n_observations = 25\n",
    "\n",
    "sample = df.sample(n_observations, random_state=42).Bodyweight\n",
    "print(\"The sample has {0} observations.\".format(len(sample)))"
   ]
  },
  {
   "cell_type": "code",
   "execution_count": 9,
   "metadata": {},
   "outputs": [
    {
     "data": {
      "image/png": "[encoded data removed]",
      "text/plain": [
       "<matplotlib.figure.Figure at 0x1b7bd8a38d0>"
      ]
     },
     "metadata": {},
     "output_type": "display_data"
    }
   ],
   "source": [
    "plt.title('Distribution of the Random Sample')\n",
    "n, bins, patches = plt.hist(sample, bins=12, normed=1, color='steelblue')\n",
    "\n",
    "y = mlab.normpdf(bins, sample.mean(), sample.std())\n",
    "l = plt.plot(bins, y, 'r--', linewidth=2)\n",
    "\n",
    "plt.xlabel('Bodyweight (grams)')\n",
    "plt.ylabel('Number of Observations')\n",
    "plt.grid(True)\n",
    "plt.show()"
   ]
  },
  {
   "cell_type": "markdown",
   "metadata": {},
   "source": [
    "#### Measures of Center (Random Sample)"
   ]
  },
  {
   "cell_type": "code",
   "execution_count": 10,
   "metadata": {},
   "outputs": [
    {
     "name": "stdout",
     "output_type": "stream",
     "text": [
      "====================================================================\n",
      "   Center of the Random Sample\n",
      "====================================================================\n",
      "-- Average (Mean) Bodyweight: 23.391\n",
      "-- Median Bodyweight: 23.110\n",
      "-- Mode Bodyweight: Series([], dtype: float64)\n",
      "====================================================================\n"
     ]
    }
   ],
   "source": [
    "print(\"====================================================================\")\n",
    "print(\"   Center of the Random Sample\")\n",
    "print(\"====================================================================\")\n",
    "print(\"-- Average (Mean) Bodyweight: %0.3f\" % sample.mean())\n",
    "print(\"-- Median Bodyweight: %0.3f\" % sample.median())\n",
    "print(\"-- Mode Bodyweight:\", sample.mode())\n",
    "print(\"====================================================================\")"
   ]
  },
  {
   "cell_type": "markdown",
   "metadata": {},
   "source": [
    "#### Measures of Spread (Random Sample)"
   ]
  },
  {
   "cell_type": "code",
   "execution_count": 23,
   "metadata": {},
   "outputs": [
    {
     "name": "stdout",
     "output_type": "stream",
     "text": [
      "====================================================================\n",
      "   Spread of the Random Sample\n",
      "====================================================================\n",
      "-- Minimum: 16.05\n",
      "-- Maximum: 29.60\n",
      "-- Range: 13.55\n",
      "-- Mean Absolute Deviation (MAD): 3.01\n",
      "-- Variance: 13.77\n",
      "-- Standard Deviation: 3.71\n",
      "====================================================================\n"
     ]
    }
   ],
   "source": [
    "print(\"====================================================================\")\n",
    "print(\"   Spread of the Random Sample\")\n",
    "print(\"====================================================================\")\n",
    "print(\"-- Minimum: %0.2f\" % sample.min())\n",
    "print(\"-- Maximum: %0.2f\" % sample.max())\n",
    "print(\"-- Range: %0.2f\" % abs(sample.max() - sample.min()))\n",
    "print(\"-- Mean Absolute Deviation (MAD): %0.2f\" % sample.mad())\n",
    "print(\"-- Variance: %0.2f\" % sample.var())\n",
    "print(\"-- Standard Deviation: %0.2f\" % sample.std())\n",
    "print(\"====================================================================\")"
   ]
  },
  {
   "cell_type": "markdown",
   "metadata": {},
   "source": [
    "#### Detecting Outliers (Random Sample)"
   ]
  },
  {
   "cell_type": "code",
   "execution_count": 12,
   "metadata": {},
   "outputs": [
    {
     "data": {
      "image/png": "[encoded data removed]",
      "text/plain": [
       "<matplotlib.figure.Figure at 0x1b7bd996128>"
      ]
     },
     "metadata": {},
     "output_type": "display_data"
    }
   ],
   "source": [
    "z_score = (sample - sample.mean())/sample.std()\n",
    "\n",
    "plt.title(\"Distribution of the Samples' Z-Scores\")\n",
    "n, bins, patches = plt.hist(z_score, bins=12, normed=1, color='steelblue')\n",
    "\n",
    "# Create a 'Best-Fit' Line.\n",
    "y = mlab.normpdf(bins, z_score.mean(), z_score.std())\n",
    "l = plt.plot(bins, y, 'r--', linewidth=2)\n",
    "\n",
    "plt.xlabel('Z-Score')\n",
    "plt.ylabel('Number of Observations')\n",
    "plt.grid(True)\n",
    "plt.show()"
   ]
  },
  {
   "cell_type": "markdown",
   "metadata": {},
   "source": [
    "#### Monte Carlo Sampling for Random Variable Analysis"
   ]
  },
  {
   "cell_type": "code",
   "execution_count": 26,
   "metadata": {},
   "outputs": [
    {
     "data": {
      "text/html": [
       "<div>\n",
       "<table border=\"1\" class=\"dataframe\">\n",
       "  <thead>\n",
       "    <tr style=\"text-align: right;\">\n",
       "      <th></th>\n",
       "      <th>Bodyweight</th>\n",
       "    </tr>\n",
       "  </thead>\n",
       "  <tbody>\n",
       "    <tr>\n",
       "      <th>0</th>\n",
       "      <td>-0.386178</td>\n",
       "    </tr>\n",
       "    <tr>\n",
       "      <th>1</th>\n",
       "      <td>0.697822</td>\n",
       "    </tr>\n",
       "    <tr>\n",
       "      <th>2</th>\n",
       "      <td>-0.423378</td>\n",
       "    </tr>\n",
       "    <tr>\n",
       "      <th>3</th>\n",
       "      <td>1.313422</td>\n",
       "    </tr>\n",
       "    <tr>\n",
       "      <th>4</th>\n",
       "      <td>0.451422</td>\n",
       "    </tr>\n",
       "    <tr>\n",
       "      <th>5</th>\n",
       "      <td>-0.247778</td>\n",
       "    </tr>\n",
       "    <tr>\n",
       "      <th>6</th>\n",
       "      <td>1.086622</td>\n",
       "    </tr>\n",
       "    <tr>\n",
       "      <th>7</th>\n",
       "      <td>0.327022</td>\n",
       "    </tr>\n",
       "    <tr>\n",
       "      <th>8</th>\n",
       "      <td>-0.647378</td>\n",
       "    </tr>\n",
       "    <tr>\n",
       "      <th>9</th>\n",
       "      <td>1.667022</td>\n",
       "    </tr>\n",
       "  </tbody>\n",
       "</table>\n",
       "</div>"
      ],
      "text/plain": [
       "   Bodyweight\n",
       "0   -0.386178\n",
       "1    0.697822\n",
       "2   -0.423378\n",
       "3    1.313422\n",
       "4    0.451422\n",
       "5   -0.247778\n",
       "6    1.086622\n",
       "7    0.327022\n",
       "8   -0.647378\n",
       "9    1.667022"
      ]
     },
     "execution_count": 26,
     "metadata": {},
     "output_type": "execute_result"
    }
   ],
   "source": [
    "# Let's take 10 samples having 25 observations each.\n",
    "n_samples = 10\n",
    "differences = []\n",
    "\n",
    "for i in range(n_samples):\n",
    "    # The difference between the mean of a random sample and the population mean.\n",
    "    differences.append( df.sample(n_observations).mean() - population.mean() )\n",
    "\n",
    "# Each sample taken has a different Mean value; therefore, it is a Random Variable. \n",
    "differences = pd.DataFrame(differences)\n",
    "differences"
   ]
  },
  {
   "cell_type": "code",
   "execution_count": 27,
   "metadata": {},
   "outputs": [
    {
     "data": {
      "image/png": "[encoded data removed]",
      "text/plain": [
       "<matplotlib.figure.Figure at 0x1b7bf22b9e8>"
      ]
     },
     "metadata": {},
     "output_type": "display_data"
    }
   ],
   "source": [
    "min_diff = differences.Bodyweight.min()\n",
    "max_diff = differences.Bodyweight.max()\n",
    "\n",
    "plt.title('Distribution of the Distances')\n",
    "plt.scatter(range(n_samples), differences.Bodyweight, color='steelblue')\n",
    "\n",
    "plt.plot([0,10], [min_diff, max_diff], color='darkorange', lw=2, linestyle='--')\n",
    "plt.xlabel('Sample Observations')\n",
    "plt.ylabel('Distance from the Mean')\n",
    "plt.grid(True)\n",
    "plt.show()"
   ]
  },
  {
   "cell_type": "code",
   "execution_count": 15,
   "metadata": {},
   "outputs": [
    {
     "name": "stdout",
     "output_type": "stream",
     "text": [
      "====================================================================\n",
      "The Mean Absolute Difference (MAD) of the Samples is: 0.081178\n",
      "====================================================================\n",
      "-- The Minimum Distance is: -1.246178\n",
      "-- The Maximum Distance is: 1.465422\n",
      "====================================================================\n"
     ]
    }
   ],
   "source": [
    "print(\"====================================================================\")\n",
    "print(\"The Mean Absolute Difference (MAD) of the Samples is: %0.6f\" % abs(differences.Bodyweight.mean()))\n",
    "print(\"====================================================================\")\n",
    "print(\"-- The Minimum Distance is: %0.6f\" % min_diff)\n",
    "print(\"-- The Maximum Distance is: %0.6f\" % max_diff)\n",
    "print(\"====================================================================\")"
   ]
  },
  {
   "cell_type": "code",
   "execution_count": null,
   "metadata": {
    "collapsed": true
   },
   "outputs": [],
   "source": []
  },
  {
   "cell_type": "code",
   "execution_count": null,
   "metadata": {
    "collapsed": true
   },
   "outputs": [],
   "source": []
  }
 ],
 "metadata": {
  "kernelspec": {
   "display_name": "Python 3",
   "language": "python",
   "name": "python3"
  },
  "language_info": {
   "codemirror_mode": {
    "name": "ipython",
    "version": 3
   },
   "file_extension": ".py",
   "mimetype": "text/x-python",
   "name": "python",
   "nbconvert_exporter": "python",
   "pygments_lexer": "ipython3",
   "version": "3.6.5"
  }
 },
 "nbformat": 4,
 "nbformat_minor": 1
}
