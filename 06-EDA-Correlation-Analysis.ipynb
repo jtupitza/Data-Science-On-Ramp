{
 "cells": [
  {
   "cell_type": "markdown",
   "metadata": {},
   "source": [
    "## Perform Exploratory Data Analysis - Correlation\n",
    "- Examine the level of correlation between each feature\n",
    "- Examine their level of correlation to the outcome (response feature)"
   ]
  },
  {
   "cell_type": "code",
   "execution_count": null,
   "metadata": {
    "collapsed": true
   },
   "outputs": [],
   "source": [
    "import os\n",
    "import pandas as pd\n",
    "import matplotlib\n",
    "import matplotlib.pyplot as plt\n",
    "%matplotlib inline"
   ]
  },
  {
   "cell_type": "code",
   "execution_count": null,
   "metadata": {
    "collapsed": true
   },
   "outputs": [],
   "source": [
    "# Read the cleaned source file into a DataFrame.\n",
    "data_dir = os.path.join(os.getcwd(), 'Data')\n",
    "source_file = os.path.join(data_dir, 'WA-Telco-Customer-Churn-ML.xlsx')\n",
    "df = pd.read_excel(source_file, header=0)\n",
    "\n",
    "# Drop the Unique Identifier\n",
    "df = df.drop(labels=['customerID'], axis=1)"
   ]
  },
  {
   "cell_type": "code",
   "execution_count": null,
   "metadata": {},
   "outputs": [],
   "source": [
    "# Make appropriate data type assignments.\n",
    "df.gender = pd.to_numeric(df.gender, downcast='integer', errors='coerce')\n",
    "df.SeniorCitizen = pd.to_numeric(df.SeniorCitizen, downcast='integer', errors='coerce')\n",
    "df.Partner = pd.to_numeric(df.Partner, downcast='integer', errors='coerce')\n",
    "df.Dependents = pd.to_numeric(df.Dependents, downcast='integer', errors='coerce')\n",
    "df.tenure = pd.to_numeric(df.tenure, downcast='integer', errors='coerce')\n",
    "df.PhoneService = pd.to_numeric(df.PhoneService, downcast='integer', errors='coerce')\n",
    "df.MultipleLines = pd.to_numeric(df.MultipleLines, downcast='integer', errors='coerce')\n",
    "df.InternetService = pd.to_numeric(df.InternetService, downcast='integer', errors='coerce')\n",
    "df.OnlineSecurity = pd.to_numeric(df.OnlineSecurity, downcast='integer', errors='coerce')\n",
    "df.OnlineBackup = pd.to_numeric(df.OnlineBackup, downcast='integer', errors='coerce')\n",
    "df.DeviceProtection = pd.to_numeric(df.DeviceProtection, downcast='integer', errors='coerce')\n",
    "df.TechSupport = pd.to_numeric(df.TechSupport, downcast='integer', errors='coerce')\n",
    "df.StreamingTV = pd.to_numeric(df.StreamingTV, downcast='integer', errors='coerce')\n",
    "df.StreamingMovies = pd.to_numeric(df.StreamingMovies, downcast='integer', errors='coerce')\n",
    "df.Contract = pd.to_numeric(df.Contract, downcast='integer', errors='coerce')\n",
    "df.PaperlessBilling = pd.to_numeric(df.PaperlessBilling, downcast='integer', errors='coerce')\n",
    "df.PaymentMethod = pd.to_numeric(df.PaymentMethod, downcast='integer', errors='coerce')\n",
    "df.MonthlyCharges = pd.to_numeric(df.MonthlyCharges, downcast='float', errors='coerce')\n",
    "df.TotalCharges = pd.to_numeric(df.TotalCharges, downcast='float', errors='coerce')\n",
    "df.Churn = pd.to_numeric(df.Churn, downcast='integer', errors='coerce')\n",
    "\n",
    "# Validate new data type assignments.\n",
    "df.dtypes"
   ]
  },
  {
   "cell_type": "markdown",
   "metadata": {},
   "source": [
    "### Examine Correlations Among the Entire Feature-Set"
   ]
  },
  {
   "cell_type": "code",
   "execution_count": null,
   "metadata": {},
   "outputs": [],
   "source": [
    "# Create a Pearson Correlation Matrix of the Entire Feature-Set\n",
    "df.corr('pearson')  # default | kendall | spearman rank"
   ]
  },
  {
   "cell_type": "code",
   "execution_count": null,
   "metadata": {},
   "outputs": [],
   "source": [
    "# Plot a Colorbar of the Entire Feature-Set\n",
    "plt.figure(figsize=(8,8))\n",
    "plt.imshow(df.corr('pearson'), cmap=plt.cm.Blues, interpolation='nearest')\n",
    "tick_marks = [i for i in range(len(df.columns))]\n",
    "plt.xticks(tick_marks, df.columns, rotation='vertical')\n",
    "plt.yticks(tick_marks, df.columns)\n",
    "plt.colorbar()"
   ]
  },
  {
   "cell_type": "markdown",
   "metadata": {},
   "source": [
    "### Examine Correlations Among Only the Continuous Numerical Features and Churn"
   ]
  },
  {
   "cell_type": "code",
   "execution_count": null,
   "metadata": {},
   "outputs": [],
   "source": [
    "# Create a Pearson Correlation Matrix of the Continuous Numerical Features and the Response (Churn)\n",
    "num_df = df[['tenure','MonthlyCharges','TotalCharges', 'Churn']]\n",
    "num_df.corr('pearson')"
   ]
  },
  {
   "cell_type": "code",
   "execution_count": null,
   "metadata": {},
   "outputs": [],
   "source": [
    "# Plot a Colorbar of the Continuous Numerical Features and the Response (Churn)\n",
    "plt.imshow(num_df.corr('pearson'), cmap=plt.cm.Blues, interpolation='nearest')\n",
    "tick_marks = [i for i in range(len(num_df.columns))]\n",
    "plt.xticks(tick_marks, num_df.columns, rotation='vertical')\n",
    "plt.yticks(tick_marks, num_df.columns)\n",
    "plt.colorbar()"
   ]
  },
  {
   "cell_type": "markdown",
   "metadata": {},
   "source": [
    "### Examine Correlations Among Only PhoneService, MultipleLines and Churn"
   ]
  },
  {
   "cell_type": "code",
   "execution_count": null,
   "metadata": {},
   "outputs": [],
   "source": [
    "# Create a Spearman Correlation Matrix of Only PhoneService, MultipleLines and Churn.\n",
    "phoneline_df = df[['PhoneService','MultipleLines','Churn']]\n",
    "phoneline_df.rank()\n",
    "phoneline_df.corr('spearman')"
   ]
  },
  {
   "cell_type": "code",
   "execution_count": null,
   "metadata": {},
   "outputs": [],
   "source": [
    "# Plot a Colorbar of Only PhoneService, MultipleLines and Churn. \n",
    "plt.imshow(phoneline_df.corr('spearman'), cmap=plt.cm.Blues, interpolation='nearest')\n",
    "tick_marks = [i for i in range(len(phoneline_df.columns))]\n",
    "plt.xticks(tick_marks, phoneline_df.columns, rotation='vertical')\n",
    "plt.yticks(tick_marks, phoneline_df.columns)\n",
    "plt.colorbar()"
   ]
  },
  {
   "cell_type": "markdown",
   "metadata": {},
   "source": [
    "### Examine Correlations Between the Internet-Related Services and Churn"
   ]
  },
  {
   "cell_type": "code",
   "execution_count": null,
   "metadata": {},
   "outputs": [],
   "source": [
    "# Plot a Spearman Correlation Matrix of Only the Internet-Related Services and Churn.\n",
    "intsvcs_df = df[['InternetService','OnlineSecurity','OnlineBackup','DeviceProtection',\n",
    "                 'TechSupport','StreamingTV','StreamingMovies', 'Churn']]\n",
    "intsvcs_df.rank()\n",
    "intsvcs_df.corr('spearman') # spearman rank"
   ]
  },
  {
   "cell_type": "code",
   "execution_count": null,
   "metadata": {},
   "outputs": [],
   "source": [
    "# Plot a Colorbar of Only the Internet-Related Services and Churn.\n",
    "plt.figure(figsize=(6,6))\n",
    "plt.imshow(intsvcs_df.corr('spearman'), cmap=plt.cm.Blues, interpolation='nearest')\n",
    "tick_marks = [i for i in range(len(intsvcs_df.columns))]\n",
    "plt.xticks(tick_marks, intsvcs_df.columns, rotation='vertical')\n",
    "plt.yticks(tick_marks, intsvcs_df.columns)\n",
    "plt.colorbar()"
   ]
  },
  {
   "cell_type": "markdown",
   "metadata": {},
   "source": [
    "### Examine Correlation Between the Remaining Independent Categorical Features and Churn"
   ]
  },
  {
   "cell_type": "code",
   "execution_count": null,
   "metadata": {},
   "outputs": [],
   "source": [
    "# Plot a Spearman Correlation Matrix of Only the Remaining Independent Categorical Features and Churn.\n",
    "ind_df = df[['gender','SeniorCitizen','Partner','Dependents','Contract','PaperlessBilling','PaymentMethod', 'Churn']]\n",
    "ind_df.rank()\n",
    "ind_df.corr('spearman') # spearman rank"
   ]
  },
  {
   "cell_type": "code",
   "execution_count": null,
   "metadata": {},
   "outputs": [],
   "source": [
    "# Plot a Colorbar of Only the Remaining Independent Categorical Features and Churn.\n",
    "plt.figure(figsize=(6,6))\n",
    "plt.imshow(ind_df.corr('spearman'), cmap=plt.cm.Blues, interpolation='nearest')\n",
    "tick_marks = [i for i in range(len(ind_df.columns))]\n",
    "plt.xticks(tick_marks, ind_df.columns, rotation='vertical')\n",
    "plt.yticks(tick_marks, ind_df.columns)\n",
    "plt.colorbar()"
   ]
  }
 ],
 "metadata": {
  "kernelspec": {
   "display_name": "Python 3",
   "language": "python",
   "name": "python3"
  },
  "language_info": {
   "codemirror_mode": {
    "name": "ipython",
    "version": 3
   },
   "file_extension": ".py",
   "mimetype": "text/x-python",
   "name": "python",
   "nbconvert_exporter": "python",
   "pygments_lexer": "ipython3",
   "version": "3.5.2"
  }
 },
 "nbformat": 4,
 "nbformat_minor": 2
}
